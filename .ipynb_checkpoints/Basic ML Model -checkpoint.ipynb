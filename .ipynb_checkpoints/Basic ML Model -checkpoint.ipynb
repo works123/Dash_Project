{
 "cells": [
  {
   "cell_type": "code",
   "execution_count": 20,
   "id": "a8b21b4a",
   "metadata": {},
   "outputs": [],
   "source": [
    "# Save Model Using joblib\n",
    "import pandas\n",
    "from sklearn import model_selection\n",
    "from sklearn.linear_model import LinearRegression\n",
    "import numpy as np\n",
    "import joblib"
   ]
  },
  {
   "cell_type": "code",
   "execution_count": 58,
   "id": "2e2dff90",
   "metadata": {},
   "outputs": [],
   "source": [
    "\n",
    "X = np.array([1,2,3,4,5,8,9,90,10])\n",
    "Y = np.array([5,6,7,8,9,10,11, 12, 15])\n",
    "test_size = 0.33\n",
    "seed = 7"
   ]
  },
  {
   "cell_type": "code",
   "execution_count": 59,
   "id": "fefaf495",
   "metadata": {},
   "outputs": [],
   "source": [
    "X_train, X_test, Y_train, Y_test = model_selection.train_test_split(X, Y, test_size=test_size, random_state=seed)"
   ]
  },
  {
   "cell_type": "code",
   "execution_count": 60,
   "id": "8d5f4071",
   "metadata": {},
   "outputs": [
    {
     "data": {
      "text/plain": [
       "LinearRegression()"
      ]
     },
     "execution_count": 60,
     "metadata": {},
     "output_type": "execute_result"
    }
   ],
   "source": [
    "# Fit the model on training set\n",
    "model = LinearRegression()\n",
    "model.fit(X_train.reshape(-1, 1), Y_train)"
   ]
  },
  {
   "cell_type": "code",
   "execution_count": null,
   "id": "fe64d38e",
   "metadata": {},
   "outputs": [],
   "source": [
    "#new data \n",
    "new_data = 5"
   ]
  },
  {
   "cell_type": "code",
   "execution_count": null,
   "id": "1cefb8de",
   "metadata": {},
   "outputs": [],
   "source": [
    "#preprocessing\n",
    "new_transform = np.array(new_data).reshape(-1,1)"
   ]
  },
  {
   "cell_type": "code",
   "execution_count": 72,
   "id": "68e3c0eb",
   "metadata": {},
   "outputs": [
    {
     "data": {
      "text/plain": [
       "array([[5]])"
      ]
     },
     "execution_count": 72,
     "metadata": {},
     "output_type": "execute_result"
    }
   ],
   "source": [
    "new_transform"
   ]
  },
  {
   "cell_type": "code",
   "execution_count": 75,
   "id": "7e2a9d1c",
   "metadata": {},
   "outputs": [],
   "source": [
    "#prediction \n",
    "y_predicted = model.predict([[new_data]])"
   ]
  },
  {
   "cell_type": "code",
   "execution_count": 76,
   "id": "73c953bb",
   "metadata": {},
   "outputs": [
    {
     "data": {
      "text/plain": [
       "array([8.63513514])"
      ]
     },
     "execution_count": 76,
     "metadata": {},
     "output_type": "execute_result"
    }
   ],
   "source": [
    "y_predicted"
   ]
  },
  {
   "cell_type": "code",
   "execution_count": 77,
   "id": "66e29edf",
   "metadata": {},
   "outputs": [
    {
     "data": {
      "text/plain": [
       "8.635135135135135"
      ]
     },
     "execution_count": 77,
     "metadata": {},
     "output_type": "execute_result"
    }
   ],
   "source": [
    "y_predicted[0]"
   ]
  },
  {
   "cell_type": "code",
   "execution_count": 67,
   "id": "598c78cd",
   "metadata": {},
   "outputs": [
    {
     "data": {
      "text/plain": [
       "['model_file/finalized_model.sav']"
      ]
     },
     "execution_count": 67,
     "metadata": {},
     "output_type": "execute_result"
    }
   ],
   "source": [
    "# save the model to disk\n",
    "filename = 'model_file/finalized_model.sav'\n",
    "joblib.dump(model, filename)"
   ]
  },
  {
   "cell_type": "code",
   "execution_count": 71,
   "id": "3e9d027b",
   "metadata": {},
   "outputs": [
    {
     "name": "stdout",
     "output_type": "stream",
     "text": [
      "-204.07645424790715\n"
     ]
    }
   ],
   "source": [
    "# some time later...\n",
    "\n",
    "# load the model from disk\n",
    "loaded_model = joblib.load(filename)\n",
    "result = loaded_model.score(X_test.reshape(-1, 1), Y_test)\n",
    "print(result)"
   ]
  },
  {
   "cell_type": "code",
   "execution_count": null,
   "id": "1e3cab5e",
   "metadata": {},
   "outputs": [],
   "source": []
  }
 ],
 "metadata": {
  "kernelspec": {
   "display_name": "Python 3",
   "language": "python",
   "name": "python3"
  },
  "language_info": {
   "codemirror_mode": {
    "name": "ipython",
    "version": 3
   },
   "file_extension": ".py",
   "mimetype": "text/x-python",
   "name": "python",
   "nbconvert_exporter": "python",
   "pygments_lexer": "ipython3",
   "version": "3.8.12"
  }
 },
 "nbformat": 4,
 "nbformat_minor": 5
}
